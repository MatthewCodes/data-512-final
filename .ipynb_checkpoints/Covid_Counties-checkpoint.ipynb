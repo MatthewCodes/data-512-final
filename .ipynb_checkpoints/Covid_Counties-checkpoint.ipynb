{
 "cells": [
  {
   "cell_type": "code",
   "execution_count": 26,
   "metadata": {},
   "outputs": [],
   "source": [
    "import pandas as pd\n",
    "import os\n",
    "\n",
    "cwd = os.getcwd()"
   ]
  },
  {
   "cell_type": "code",
   "execution_count": 27,
   "metadata": {},
   "outputs": [],
   "source": [
    "county       = cwd[:-14] + 'cc-est2019-alldata.csv'\n",
    "cases        = cwd[:-14] + 'covid_confirmed_usafacts.csv'\n",
    "covid_county = cwd[:-14] + 'covid_county_population_usafacts.csv'"
   ]
  },
  {
   "cell_type": "code",
   "execution_count": 38,
   "metadata": {},
   "outputs": [],
   "source": [
    "# Demographics of all the counties in the United States unitl (7/1/2019)\n",
    "county_demographics = pd.read_csv(county, encoding = \"ISO-8859-1\")\n",
    "\n",
    "# All of the covid cases that were reported unitl (11/15/20)\n",
    "covid_cases = pd.read_csv(cases, encoding = \"ISO-8859-1\")\n",
    "\n",
    "# All of counties in the United States and their populations (assumed to be most recent)\n",
    "county_populations = pd.read_csv(covid_county, encoding = \"ISO-8859-1\")"
   ]
  },
  {
   "cell_type": "markdown",
   "metadata": {},
   "source": [
    "1. What is the distribution of Covid-19 cases for highly minority populated counties vs. highly non-minority populated counties in the United States?\n",
    "\n",
    "2. What is the case gap between the worst counties when grouped by race?\n",
    "\n",
    "3. Which counties have seen the biggest improvement (drop in cases) since their biggest recorded day?\n",
    "\n",
    "4. Which state has the best medical response COVID-19 policies deaths vs cases?"
   ]
  },
  {
   "cell_type": "markdown",
   "metadata": {},
   "source": [
    "One thing I have to do before I start my analysis is decide is how I am *classifying counties as high minority*?\n",
    "One caviate to the experiment is that the covid data is only for 2020, but the data on the county demographics ends July 2019, and no date is specified for the "
   ]
  },
  {
   "cell_type": "code",
   "execution_count": 45,
   "metadata": {},
   "outputs": [],
   "source": [
    "#county_demographics.iloc[0:20, :] # Need to extract the appropriate years, and age groups\n",
    "\n",
    "#covid_cases.iloc[0:20, :]\n",
    "\n",
    "#county_populations.iloc[0:20, :]"
   ]
  },
  {
   "cell_type": "code",
   "execution_count": null,
   "metadata": {},
   "outputs": [],
   "source": []
  }
 ],
 "metadata": {
  "kernelspec": {
   "display_name": "Python 3",
   "language": "python",
   "name": "python3"
  },
  "language_info": {
   "codemirror_mode": {
    "name": "ipython",
    "version": 3
   },
   "file_extension": ".py",
   "mimetype": "text/x-python",
   "name": "python",
   "nbconvert_exporter": "python",
   "pygments_lexer": "ipython3",
   "version": "3.7.6"
  }
 },
 "nbformat": 4,
 "nbformat_minor": 4
}
