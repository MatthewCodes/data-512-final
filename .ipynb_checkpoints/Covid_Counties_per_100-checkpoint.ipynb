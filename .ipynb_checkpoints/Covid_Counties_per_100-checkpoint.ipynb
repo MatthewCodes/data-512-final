{
 "cells": [
  {
   "cell_type": "markdown",
   "metadata": {},
   "source": [
    "# COVID-19 in high minority populated counties across America"
   ]
  },
  {
   "cell_type": "markdown",
   "metadata": {},
   "source": [
    "### To understand how COVID-19 is effecting counties that have a high minority population I answer the following questions:\n",
    "1. What is the distribution of Covid-19 cases for highly minority populated counties vs. highly non-minority populated counties in the United States?\n",
    "\n",
    "2. What is the case gap between the worst counties when grouped by race?\n",
    "\n",
    "3. Which counties have seen the biggest improvement (drop in cases) since their biggest recorded day?\n",
    "\n",
    "4. Which state has the best medical response COVID-19 policies deaths vs cases?\n",
    "\n",
    "One thing I had to do before I started my analysis was decide how I am classifying counties as high minority. I decided that if a minority race (black, hispanic, asian, or native american) makes up the majoriy of a county's population then that county is considered high minority.\n",
    "One caviate to the experiment is that the covid data is only for 2020, but the data on the county demographics ends July 2019. So there is some error in population of the races in the data."
   ]
  },
  {
   "cell_type": "markdown",
   "metadata": {},
   "source": [
    "## Imports and Functions"
   ]
  },
  {
   "cell_type": "code",
   "execution_count": 1,
   "metadata": {},
   "outputs": [],
   "source": [
    "import pandas as pd\n",
    "import os\n",
    "import numpy as np\n",
    "import matplotlib.pyplot as plt\n",
    "\n",
    "def find_dominate_race(races):\n",
    "    \"\"\"\n",
    "    races: A dictionary where the key is the race, and the value is the percentage\n",
    "    of population for a given county\n",
    "    \n",
    "    returns: A dictionary where the key is the most prominate race and the value \n",
    "    is that race's percentage of the population\n",
    "    \"\"\"\n",
    "    highest_population = dict()\n",
    "    population = 0\n",
    "    for key, val in races.items():\n",
    "        if val > population:\n",
    "            population = val\n",
    "            highest_population[key] = val\n",
    "    dom_race = list(highest_population.items())[-1]\n",
    "    return dom_race\n",
    "\n",
    "def find_highest_reported_case(cases_by_day):\n",
    "    \"\"\"\n",
    "    cases_by_day: A list of the cumulative cases each day since cases \n",
    "    started being reported\n",
    "    \n",
    "    returns: A list of the number of new cases each day since the they\n",
    "    started being reported\n",
    "    \"\"\"\n",
    "    case_by_day_count = []\n",
    "    for i, day in enumerate(cases_by_day):\n",
    "        if i > 0:\n",
    "            case_by_day_count.append(cases_by_day[i] - cases_by_day[i-1])\n",
    "        else:\n",
    "            case_by_day_count.append(cases_by_day[i])\n",
    "    return case_by_day_count"
   ]
  },
  {
   "cell_type": "markdown",
   "metadata": {},
   "source": [
    "## Step 1. Data loading "
   ]
  },
  {
   "cell_type": "code",
   "execution_count": 2,
   "metadata": {},
   "outputs": [],
   "source": [
    "cwd = os.getcwd()\n",
    "\n",
    "#Data should be in the directory above this one. (one directoy up)\n",
    "county       = cwd[:-14] + 'cc-est2019-alldata.csv'\n",
    "cases        = cwd[:-14] + 'covid_confirmed_usafacts.csv'\n",
    "covid_county = cwd[:-14] + 'covid_county_population_usafacts.csv'\n",
    "deaths       = cwd[:-14] + 'covid_deaths_usafacts.csv'"
   ]
  },
  {
   "cell_type": "code",
   "execution_count": 3,
   "metadata": {},
   "outputs": [],
   "source": [
    "# Demographics of all the counties in the United States unitl (7/1/2019)\n",
    "county_demographics = pd.read_csv(county, encoding = \"ISO-8859-1\")\n",
    "\n",
    "# All of the covid cases that were reported unitl (11/15/20)\n",
    "covid_cases = pd.read_csv(cases, encoding = \"ISO-8859-1\")\n",
    "\n",
    "# All of counties in the United States and their populations (assumed to be most recent)\n",
    "county_populations = pd.read_csv(covid_county, encoding = \"ISO-8859-1\")\n",
    "\n",
    "# All of the covid deaths that were reported (only using unitl 11/15/20)\n",
    "covid_deaths = pd.read_csv(deaths, encoding = \"ISO-8859-1\")"
   ]
  },
  {
   "cell_type": "markdown",
   "metadata": {},
   "source": [
    "## Step 2. General data preprocessing"
   ]
  },
  {
   "cell_type": "code",
   "execution_count": 4,
   "metadata": {},
   "outputs": [],
   "source": [
    "# Change the name of the columns to match the other csv files\n",
    "county_demographics = county_demographics.rename(columns={\"CTYNAME\": \"County Name\", \"STNAME\": \"State\"})"
   ]
  },
  {
   "cell_type": "code",
   "execution_count": 5,
   "metadata": {},
   "outputs": [],
   "source": [
    "# Some of the States are represented by abbreviations, so here we replace them with the actual spelling\n",
    "\n",
    "state_full = ['Alabama', 'Alaska', 'Arizona', 'Arkansas', 'California', 'Colorado', 'Connecticut', 'Delaware', \n",
    "'District of Columbia', 'Florida', 'Georgia', 'Hawaii', 'Idaho', 'Illinois', 'Indiana', 'Iowa', 'Kansas', 'Kentucky', \n",
    "'Louisiana', 'Maine', 'Maryland', 'Massachusetts', 'Michigan', 'Minnesota', 'Mississippi', 'Missouri', 'Montana', 'Nebraska', \n",
    "'Nevada', 'New Hampshire', 'New Jersey', 'New Mexico', 'New York', 'North Carolina', 'North Dakota', 'Ohio', 'Oklahoma', \n",
    "'Oregon', 'Pennsylvania', 'Rhode Island', 'South Carolina', 'South Dakota', 'Tennessee', 'Texas', 'Utah', 'Vermont', \n",
    "'Virginia', 'Washington','West Virginia', 'Wisconsin', 'Wyoming']\n",
    "\n",
    "state_abb = ['AL', 'AK', 'AZ','AR','CA','CO','CT','DE','DC','FL','GA','HI','ID','IL','IN','IA','KS',\n",
    "'KY','LA','ME','MD','MA','MI','MN','MS','MO','MT','NE','NV','NH','NJ','NM','NY',\n",
    "'NC','ND','OH','OK','OR','PA','RI','SC','SD','TN','TX',\n",
    "'UT','VT','VA','WA','WV','WI','WY']\n",
    "\n",
    "county_populations = county_populations.replace(state_abb, state_full)\n",
    "covid_cases = covid_cases.replace(state_abb, state_full)\n",
    "covid_deaths = covid_deaths.replace(state_abb, state_full)"
   ]
  },
  {
   "cell_type": "code",
   "execution_count": 6,
   "metadata": {},
   "outputs": [
    {
     "data": {
      "text/html": [
       "<div>\n",
       "<style scoped>\n",
       "    .dataframe tbody tr th:only-of-type {\n",
       "        vertical-align: middle;\n",
       "    }\n",
       "\n",
       "    .dataframe tbody tr th {\n",
       "        vertical-align: top;\n",
       "    }\n",
       "\n",
       "    .dataframe thead th {\n",
       "        text-align: right;\n",
       "    }\n",
       "</style>\n",
       "<table border=\"1\" class=\"dataframe\">\n",
       "  <thead>\n",
       "    <tr style=\"text-align: right;\">\n",
       "      <th></th>\n",
       "      <th>County Name</th>\n",
       "      <th>State</th>\n",
       "      <th>11/15/20</th>\n",
       "      <th>population</th>\n",
       "      <th>cases</th>\n",
       "    </tr>\n",
       "  </thead>\n",
       "  <tbody>\n",
       "    <tr>\n",
       "      <th>0</th>\n",
       "      <td>Statewide Unallocated</td>\n",
       "      <td>Alabama</td>\n",
       "      <td>0</td>\n",
       "      <td>0.0</td>\n",
       "      <td>0.000000</td>\n",
       "    </tr>\n",
       "    <tr>\n",
       "      <th>1</th>\n",
       "      <td>Autauga County</td>\n",
       "      <td>Alabama</td>\n",
       "      <td>2456</td>\n",
       "      <td>55869.0</td>\n",
       "      <td>4.395998</td>\n",
       "    </tr>\n",
       "    <tr>\n",
       "      <th>2</th>\n",
       "      <td>Baldwin County</td>\n",
       "      <td>Alabama</td>\n",
       "      <td>7646</td>\n",
       "      <td>223234.0</td>\n",
       "      <td>3.425105</td>\n",
       "    </tr>\n",
       "    <tr>\n",
       "      <th>3</th>\n",
       "      <td>Barbour County</td>\n",
       "      <td>Alabama</td>\n",
       "      <td>1128</td>\n",
       "      <td>24686.0</td>\n",
       "      <td>4.569392</td>\n",
       "    </tr>\n",
       "    <tr>\n",
       "      <th>4</th>\n",
       "      <td>Bibb County</td>\n",
       "      <td>Alabama</td>\n",
       "      <td>986</td>\n",
       "      <td>22394.0</td>\n",
       "      <td>4.402965</td>\n",
       "    </tr>\n",
       "  </tbody>\n",
       "</table>\n",
       "</div>"
      ],
      "text/plain": [
       "             County Name    State  11/15/20  population     cases\n",
       "0  Statewide Unallocated  Alabama         0         0.0  0.000000\n",
       "1         Autauga County  Alabama      2456     55869.0  4.395998\n",
       "2         Baldwin County  Alabama      7646    223234.0  3.425105\n",
       "3         Barbour County  Alabama      1128     24686.0  4.569392\n",
       "4            Bibb County  Alabama       986     22394.0  4.402965"
      ]
     },
     "execution_count": 6,
     "metadata": {},
     "output_type": "execute_result"
    }
   ],
   "source": [
    "# Turn raw case numbers reported by 11/15/20 into cases per 100 people\n",
    "p =county_populations[[\"County Name\", \"State\", \"population\"]]\n",
    "c =covid_cases[[\"County Name\", \"State\", \"11/15/20\"]]\n",
    "cp100 = c.merge(p,on=[\"County Name\", \"State\"],how='left')\n",
    "\n",
    "adjusted_cases = []\n",
    "for index,row in cp100.iterrows():\n",
    "    cases      = row[\"11/15/20\"]\n",
    "    population = row[\"population\"]\n",
    "    try:\n",
    "        x = population/100\n",
    "        cases_per_100 = cases/x\n",
    "        adjusted_cases.append(cases_per_100)\n",
    "    except ZeroDivisionError:\n",
    "        adjusted_cases.append(cases)\n",
    "        \n",
    "cp100['cases'] = pd.Series(adjusted_cases, index=cp100.index)\n",
    "cp100.head()"
   ]
  },
  {
   "cell_type": "code",
   "execution_count": 7,
   "metadata": {},
   "outputs": [],
   "source": [
    "# Need to extract the appropriate years, and age groups\n",
    "\n",
    "df = county_demographics \n",
    "by_age = df[df[\"AGEGRP\"] == 0] #All ages\n",
    "by_age_year = by_age[by_age[\"YEAR\"] == 12] # Looks at 2019"
   ]
  },
  {
   "cell_type": "code",
   "execution_count": 8,
   "metadata": {},
   "outputs": [],
   "source": [
    "# Only grabbing the races we are interested in from the dataset (Asian, White, Black, Hispanic, Native American)\n",
    "by_race_age_year = by_age_year[['County Name', 'AGEGRP', 'State','TOT_MALE', 'TOT_FEMALE',\n",
    "'WA_FEMALE', 'WA_MALE', 'AA_FEMALE', 'AA_MALE', 'BA_FEMALE', 'BA_MALE',\n",
    "'IA_FEMALE','IA_MALE', 'H_FEMALE','H_MALE']]\n"
   ]
  },
  {
   "cell_type": "code",
   "execution_count": 9,
   "metadata": {},
   "outputs": [
    {
     "name": "stderr",
     "output_type": "stream",
     "text": [
      "C:\\Users\\Matth\\anaconda3\\lib\\site-packages\\ipykernel_launcher.py:2: SettingWithCopyWarning: \n",
      "A value is trying to be set on a copy of a slice from a DataFrame.\n",
      "Try using .loc[row_indexer,col_indexer] = value instead\n",
      "\n",
      "See the caveats in the documentation: https://pandas.pydata.org/pandas-docs/stable/user_guide/indexing.html#returning-a-view-versus-a-copy\n",
      "  \n",
      "C:\\Users\\Matth\\anaconda3\\lib\\site-packages\\ipykernel_launcher.py:3: SettingWithCopyWarning: \n",
      "A value is trying to be set on a copy of a slice from a DataFrame.\n",
      "Try using .loc[row_indexer,col_indexer] = value instead\n",
      "\n",
      "See the caveats in the documentation: https://pandas.pydata.org/pandas-docs/stable/user_guide/indexing.html#returning-a-view-versus-a-copy\n",
      "  This is separate from the ipykernel package so we can avoid doing imports until\n",
      "C:\\Users\\Matth\\anaconda3\\lib\\site-packages\\ipykernel_launcher.py:4: SettingWithCopyWarning: \n",
      "A value is trying to be set on a copy of a slice from a DataFrame.\n",
      "Try using .loc[row_indexer,col_indexer] = value instead\n",
      "\n",
      "See the caveats in the documentation: https://pandas.pydata.org/pandas-docs/stable/user_guide/indexing.html#returning-a-view-versus-a-copy\n",
      "  after removing the cwd from sys.path.\n",
      "C:\\Users\\Matth\\anaconda3\\lib\\site-packages\\ipykernel_launcher.py:5: SettingWithCopyWarning: \n",
      "A value is trying to be set on a copy of a slice from a DataFrame.\n",
      "Try using .loc[row_indexer,col_indexer] = value instead\n",
      "\n",
      "See the caveats in the documentation: https://pandas.pydata.org/pandas-docs/stable/user_guide/indexing.html#returning-a-view-versus-a-copy\n",
      "  \"\"\"\n",
      "C:\\Users\\Matth\\anaconda3\\lib\\site-packages\\ipykernel_launcher.py:6: SettingWithCopyWarning: \n",
      "A value is trying to be set on a copy of a slice from a DataFrame.\n",
      "Try using .loc[row_indexer,col_indexer] = value instead\n",
      "\n",
      "See the caveats in the documentation: https://pandas.pydata.org/pandas-docs/stable/user_guide/indexing.html#returning-a-view-versus-a-copy\n",
      "  \n",
      "C:\\Users\\Matth\\anaconda3\\lib\\site-packages\\ipykernel_launcher.py:7: SettingWithCopyWarning: \n",
      "A value is trying to be set on a copy of a slice from a DataFrame.\n",
      "Try using .loc[row_indexer,col_indexer] = value instead\n",
      "\n",
      "See the caveats in the documentation: https://pandas.pydata.org/pandas-docs/stable/user_guide/indexing.html#returning-a-view-versus-a-copy\n",
      "  import sys\n"
     ]
    }
   ],
   "source": [
    "# Adding the male and female populations together to get the total population for a race\n",
    "by_race_age_year[\"White\"] = np.add(list(by_race_age_year[\"WA_FEMALE\"]), list(by_race_age_year[\"WA_MALE\"]))\n",
    "by_race_age_year[\"Asian\"] = np.add(list(by_race_age_year[\"AA_FEMALE\"]), list(by_race_age_year[\"AA_MALE\"]))\n",
    "by_race_age_year[\"Black\"] = np.add(list(by_race_age_year[\"BA_FEMALE\"]), list(by_race_age_year[\"BA_MALE\"]))\n",
    "by_race_age_year[\"Native American\"] = np.add(list(by_race_age_year[\"IA_FEMALE\"]), list(by_race_age_year[\"IA_MALE\"]))\n",
    "by_race_age_year[\"Hispanic\"] = np.add(list(by_race_age_year[\"H_FEMALE\"]), list(by_race_age_year[\"H_MALE\"]))\n",
    "by_race_age_year[\"total pop\"] = np.add(list(by_race_age_year[\"TOT_FEMALE\"]), list(by_race_age_year[\"TOT_MALE\"]))\n",
    "\n",
    "demographics = by_race_age_year[['County Name', 'total pop', 'State', 'White', 'Asian', 'Black', 'Native American', 'Hispanic']]"
   ]
  },
  {
   "cell_type": "code",
   "execution_count": 10,
   "metadata": {},
   "outputs": [],
   "source": [
    "# Some of the States are represented by abbreviations, so here we replace them with the actual spelling\n",
    "demographics = demographics.replace(state_abb, state_full)\n",
    "\n",
    "# Some states have spaces in them so they are replaced by _ in order to make processing easier\n",
    "double_states = ['District of Columbia', 'West Virginia', 'Rhode Island', 'South Carolina', 'South Dakota', 'New Hampshire', 'New Jersey', 'New Mexico', 'New York', 'North Carolina', 'North Dakota', 'District of Columbia']\n",
    "single_states = ['District_of_Columbia', 'West_Virginia', 'Rhode_Island', 'South_Carolina', 'South_Dakota', 'New_Hampshire', 'New_Jersey', 'New_Mexico', 'New_York', 'North_Carolina', 'North_Dakota', 'District_of_Columbia']\n",
    "covid_cases = covid_cases.replace(double_states, single_states)\n",
    "demographics = demographics.replace(double_states, single_states)\n",
    "covid_deaths = covid_deaths.replace(double_states, single_states)\n",
    "cp100 = cp100.replace(double_states, single_states)"
   ]
  },
  {
   "cell_type": "markdown",
   "metadata": {},
   "source": [
    "## Step 3. Asnwering questions\n",
    "### Question 1 process"
   ]
  },
  {
   "cell_type": "code",
   "execution_count": 11,
   "metadata": {},
   "outputs": [],
   "source": [
    "# Get all the counties that are high minority and high majority\n",
    "minority_counties = []\n",
    "non_minority_counties = []\n",
    "for i in range(len(demographics)):\n",
    "    row = demographics.iloc[i,:]\n",
    "    races = {\"White\": row['White']/row['total pop'], \"Asian\": row['Asian']/row['total pop'], \"Black\": row['Black']/row['total pop'],\n",
    "                \"Native American\": row['Native American']/row['total pop'], \"Hispanic\": row['Hispanic']/row['total pop']}\n",
    "\n",
    "    dominate_race = find_dominate_race(races)\n",
    "    if dominate_race[0] != \"White\":\n",
    "        minority_counties.append(row['County Name'] + \" \" + row[\"State\"])\n",
    "    else:\n",
    "        non_minority_counties.append(row['County Name'] + \" \" + row[\"State\"])  \n",
    "        \n",
    "\n",
    "# Get the number of reported coronavirus cases for each county\n",
    "all_counties = dict()\n",
    "for i in range(len(cp100)):\n",
    "    row = cp100[['County Name', 'State', 'cases']].iloc[i,:]\n",
    "    all_counties[row['County Name'] + \" \" + row[\"State\"]] = row['cases']"
   ]
  },
  {
   "cell_type": "code",
   "execution_count": 12,
   "metadata": {},
   "outputs": [
    {
     "name": "stdout",
     "output_type": "stream",
     "text": [
      "Counties that are not in both datasets: \n",
      "Municipality of Anchorage Alaska\n",
      "City and Borough of Juneau Alaska\n",
      "Petersburg Census Area Alaska\n",
      "Wade Hampton Census Area Alaska\n",
      "Grand Princess Cruise Ship California\n",
      "Broomfield County and City Colorado\n",
      "Washington District_of_Columbia\n",
      "La Salle Parish Louisiana\n",
      "Baltimore City Maryland\n",
      "Lac Qui Parle County Minnesota\n",
      "Jackson County (including other portions of Kansas City) Missouri\n",
      "City of St. Louis Missouri\n",
      "Dona Ana County New_Mexico\n",
      "New York City Unallocated/Probable New_York\n",
      "Matthews County Virginia\n",
      "Alexandria City Virginia\n",
      "Charlottesville City Virginia\n",
      "Chesapeake City Virginia\n",
      "Danville City Virginia\n",
      "Fredericksburg City Virginia\n",
      "Harrisonburg City Virginia\n",
      "Manassas City Virginia\n",
      "Newport News City Virginia\n",
      "Norfolk City Virginia\n",
      "Portsmouth City Virginia\n",
      "Richmond City Virginia\n",
      "Suffolk City Virginia\n",
      "Virginia Beach City Virginia\n",
      "Williamsburg City Virginia\n"
     ]
    }
   ],
   "source": [
    "covid_percentage = dict()\n",
    "m_counties = minority_counties + non_minority_counties\n",
    "print(\"Counties that are not in both datasets: \")\n",
    "# Looks at the percentage of coronavirus cases in each county\n",
    "for key, cases in all_counties.items():\n",
    "    key_list = key.split()\n",
    "    county = \"\"\n",
    "    \n",
    "    for i in range(len(key_list) -1):\n",
    "        county += key_list[i] + \" \"\n",
    "    # Gets the county and State in the covid cases dataset\n",
    "    county = county[:-1]\n",
    "    state = key_list[-1]\n",
    "    \n",
    "    \n",
    "    if key_list[0] != \"Statewide\":\n",
    "        if str(county + \" \" + state) in m_counties:\n",
    "            if len(demographics[(demographics[\"County Name\"] == county) & (demographics[\"State\"] == state)]['total pop']) > 0:\n",
    "                covid_percentage[key] = cases#/int(demographics[(demographics[\"County Name\"] == county) & (demographics[\"State\"] == state)]['total pop'])\n",
    "        else:\n",
    "            print(county, state)\n",
    "                "
   ]
  },
  {
   "cell_type": "code",
   "execution_count": 13,
   "metadata": {},
   "outputs": [],
   "source": [
    "\n",
    "minority_covid_per_100 = []\n",
    "for county in minority_counties:\n",
    "    try:\n",
    "        minority_covid_per_100.append(covid_percentage[county])\n",
    "    except KeyError:\n",
    "        continue\n",
    "majority_covid_per_100 = []\n",
    "for county in non_minority_counties:\n",
    "    try:\n",
    "        majority_covid_per_100.append(covid_percentage[county])\n",
    "    except KeyError:\n",
    "        continue"
   ]
  },
  {
   "cell_type": "markdown",
   "metadata": {},
   "source": [
    "### What is the distribution of Covid-19 cases for highly minority populated counties vs. highly non-minority populated counties in the United States?"
   ]
  },
  {
   "cell_type": "code",
   "execution_count": 14,
   "metadata": {},
   "outputs": [
    {
     "data": {
      "image/png": "[encoded data removed]",
      "text/plain": [
       "<Figure size 1296x864 with 1 Axes>"
      ]
     },
     "metadata": {
      "needs_background": "light"
     },
     "output_type": "display_data"
    }
   ],
   "source": [
    "fig = plt.figure(figsize=(18,12))\n",
    "plt.ylim((0, 100))\n",
    "MA_X = [i for i in range(len(majority_covid_per_100))]\n",
    "MA_Y = sorted(majority_covid_per_100)\n",
    "plt.scatter(MA_X, MA_Y, c='blue')\n",
    "MI_X =[i for i in range(len(minority_covid_per_100))]\n",
    "MI_Y = sorted(minority_covid_per_100)\n",
    "plt.scatter(MI_X, MI_Y, c='lightblue')\n",
    "plt.legend(['Majority', 'Minority'])\n",
    "plt.title(\"Minority vs Majority\")\n",
    "plt.ylabel(\"Number of cases/100\")\n",
    "plt.xlabel(\"County COVID-19 case ranking\")\n",
    "plt.savefig(\"Minor_v_Major_per_100\")\n",
    "plt.show()"
   ]
  },
  {
   "cell_type": "markdown",
   "metadata": {},
   "source": [
    "The distribution for the majority counties looks linear for the most part, except towards the end where it looks like its increasing exponentially. My assumption that the minority county distribution would look exponential when compared to the majorit was right. \n",
    "### Question 2 process "
   ]
  },
  {
   "cell_type": "code",
   "execution_count": 15,
   "metadata": {},
   "outputs": [],
   "source": [
    "black_counties    = dict()\n",
    "hispanic_counties = dict()\n",
    "white_counties    = dict()\n",
    "asian_counties    = dict()\n",
    "native_counties   = dict()\n",
    "for i in range(len(demographics)):\n",
    "    row = demographics.iloc[i,:]\n",
    "    races = {\"White\": row['White']/row['total pop'], \"Asian\": row['Asian']/row['total pop'], \"Black\": row['Black']/row['total pop'],\n",
    "                \"Native American\": row['Native American']/row['total pop'], \"Hispanic\": row['Hispanic']/row['total pop']}\n",
    "    dominate_race = find_dominate_race(races)\n",
    "    \n",
    "    try:\n",
    "        if dominate_race[0] == \"White\":\n",
    "            white_counties[row['County Name'] + \" \" + row[\"State\"]] = all_counties[row['County Name'] + \" \" + row[\"State\"]]\n",
    "\n",
    "        elif dominate_race[0] == \"Black\":\n",
    "            black_counties[row['County Name'] + \" \" + row[\"State\"]] = all_counties[row['County Name'] + \" \" + row[\"State\"]]\n",
    "\n",
    "        elif dominate_race[0] == \"Hispanic\":\n",
    "            hispanic_counties[row['County Name'] + \" \" + row[\"State\"]] = all_counties[row['County Name'] + \" \" + row[\"State\"]]\n",
    "\n",
    "        elif dominate_race[0] == \"Asian\":\n",
    "            asian_counties[row['County Name'] + \" \" + row[\"State\"]] = all_counties[row['County Name'] + \" \" + row[\"State\"]]\n",
    "\n",
    "        elif dominate_race[0] == \"Native American\":\n",
    "            native_counties[row['County Name'] + \" \" + row[\"State\"]] = all_counties[row['County Name'] + \" \" + row[\"State\"]]\n",
    "    except KeyError:\n",
    "        continue\n",
    "        #print(row['County Name'] + \" \" + row[\"State\"])"
   ]
  },
  {
   "cell_type": "code",
   "execution_count": 16,
   "metadata": {},
   "outputs": [],
   "source": [
    "sorted_white_covoid_counties = dict(sorted(white_counties.items(), key=lambda item: item[1]))\n",
    "sorted_black_covoid_counties = dict(sorted(black_counties.items(), key=lambda item: item[1]))\n",
    "sorted_hispanic_covoid_counties = dict(sorted(hispanic_counties.items(), key=lambda item: item[1]))\n",
    "sorted_asian_covoid_counties = dict(sorted(asian_counties.items(), key=lambda item: item[1]))\n",
    "sorted_native_covoid_counties = dict(sorted(native_counties.items(), key=lambda item: item[1]))"
   ]
  },
  {
   "cell_type": "markdown",
   "metadata": {},
   "source": [
    "### What is the case gap between the worst counties when grouped by race?"
   ]
  },
  {
   "cell_type": "code",
   "execution_count": 17,
   "metadata": {},
   "outputs": [
    {
     "name": "stdout",
     "output_type": "stream",
     "text": [
      "White people:\n",
      "Bristol Bay Borough Alaska 0.0\n",
      "Norton County Kansas 18.559970154821862\n",
      "Gap:  18.559970154821862\n",
      " \n",
      "Black people:\n",
      "Hampton city Virginia 1.7664114192253366\n",
      "Lee County Arkansas 12.82601332279553\n",
      "Gap:  11.059601903570194\n",
      " \n",
      "Hispanic people:\n",
      "Bronx County New_York 4.139875208626103\n",
      "Gap:  4.139875208626103\n",
      " \n",
      "Asian people:\n",
      "Aleutians West Census Area Alaska 0.23074192403265883\n",
      "Honolulu County Hawaii 1.4633225353312205\n",
      "Gap:  1.2325806112985616\n",
      " \n",
      "Native American people:\n",
      "Yakutat City and Borough Alaska 0.0\n",
      "Buffalo County South_Dakota 16.870540265035675\n",
      "Gap:  16.870540265035675\n",
      " \n"
     ]
    }
   ],
   "source": [
    "print(\"White people:\")\n",
    "for i, (county, case_count) in enumerate(sorted_white_covoid_counties.items()):\n",
    "    if i == 0:\n",
    "        print(county, case_count)\n",
    "        lowest = case_count\n",
    "    elif i == len(sorted_white_covoid_counties) - 1:\n",
    "        print(county, case_count)\n",
    "        highest = case_count\n",
    "print(\"Gap: \", highest - lowest)\n",
    "print(\" \")\n",
    "\n",
    "print(\"Black people:\")\n",
    "for i, (county, case_count) in enumerate(sorted_black_covoid_counties.items()):\n",
    "    if i == 0:\n",
    "        print(county, case_count)\n",
    "        lowest = case_count\n",
    "    elif i == len(sorted_black_covoid_counties) - 1:\n",
    "        print(county, case_count)\n",
    "        highest = case_count\n",
    "print(\"Gap: \", highest - lowest)\n",
    "print(\" \")\n",
    "\n",
    "print(\"Hispanic people:\")\n",
    "for i, (county, case_count) in enumerate(sorted_hispanic_covoid_counties.items()):\n",
    "    if i == 0:\n",
    "        print(county, case_count)\n",
    "        lowest = case_count\n",
    "    elif i == len(sorted_hispanic_covoid_counties) - 1:\n",
    "        print(county, case_count)\n",
    "        highest = case_count\n",
    "print(\"Gap: \", lowest)\n",
    "print(\" \")\n",
    "\n",
    "print(\"Asian people:\")\n",
    "for i, (county, case_count) in enumerate(sorted_asian_covoid_counties.items()):\n",
    "    if i == 0:\n",
    "        print(county, case_count)\n",
    "        lowest = case_count\n",
    "    elif i == len(sorted_asian_covoid_counties) - 1:\n",
    "        print(county, case_count)\n",
    "        highest = case_count\n",
    "print(\"Gap: \", highest - lowest)\n",
    "print(\" \")\n",
    "\n",
    "print(\"Native American people:\")\n",
    "for i, (county, case_count) in enumerate(sorted_native_covoid_counties.items()):\n",
    "    if i == 0:\n",
    "        print(county, case_count)\n",
    "        lowest = case_count\n",
    "    elif i == len(sorted_native_covoid_counties) - 1:\n",
    "        print(county, case_count)\n",
    "        highest = case_count\n",
    "print(\"Gap: \", highest - lowest)\n",
    "print(\" \")"
   ]
  },
  {
   "cell_type": "markdown",
   "metadata": {},
   "source": [
    "### Question 3 process "
   ]
  },
  {
   "cell_type": "code",
   "execution_count": 18,
   "metadata": {},
   "outputs": [],
   "source": [
    "cases_per_day = dict()\n",
    "for i in range(len(covid_cases)):\n",
    "    row = covid_cases.iloc[i,1:]\n",
    "    if row[\"County Name\"] != \"Statewide Unallocated\":\n",
    "        dates = list(row[3:])\n",
    "\n",
    "        cases_a_day = find_highest_reported_case(dates)\n",
    "\n",
    "        highest_day = cases_a_day.index(max(cases_a_day))\n",
    "        highest_count = max(cases_a_day)\n",
    "        \n",
    "        if highest_day == 298:\n",
    "            cases_per_day[row[\"County Name\"] +\" \"+ row[\"State\"]] = 0\n",
    "        else:\n",
    "            average_cases_after_peak = sum(cases_a_day[highest_day+1:])/len(cases_a_day[highest_day+1:])\n",
    "            cases_per_day[row[\"County Name\"] +\" \"+ row[\"State\"] + \" \" + str(len(cases_a_day[highest_day+1:]))] = average_cases_after_peak"
   ]
  },
  {
   "cell_type": "markdown",
   "metadata": {},
   "source": [
    "### Which counties have seen the biggest improvement (drop in cases) since their biggest recorded day?"
   ]
  },
  {
   "cell_type": "code",
   "execution_count": 19,
   "metadata": {},
   "outputs": [
    {
     "name": "stdout",
     "output_type": "stream",
     "text": [
      "Hinsdale County Colorado 239             (Non-minority) 0.012552301255230125\n",
      "Dolores County Colorado 121              (Non-minority) 0.01652892561983471\n",
      "Banner County Nebraska 159               (Non-minority) 0.03773584905660377\n",
      "Jackson County Colorado 128              (Non-minority) 0.0390625\n"
     ]
    }
   ],
   "source": [
    "scases_per_day = dict(sorted(cases_per_day.items(), key=lambda item: item[1])) # The resason why we have some negative numbers is because some people entered in a negative number of cases for a day.\n",
    "for key, val in scases_per_day.items():\n",
    "    if val < 0.05 and val > 0:\n",
    "        \n",
    "        county_state = \"\"\n",
    "        key_list = key.split()\n",
    "        for i in range(len(key_list) -1):\n",
    "            county_state += key_list[i] + \" \"\n",
    "        county_state = county_state[:-1]\n",
    "\n",
    "        if county_state in list(sorted_white_covoid_counties.keys()):\n",
    "            race = \"(Non-minority)\"\n",
    "        else:\n",
    "            race = \"(Minority)\"\n",
    "        print('{:40} {} {}'.format(key,race, val))\n",
    "        \n"
   ]
  },
  {
   "cell_type": "markdown",
   "metadata": {},
   "source": [
    "Hinsdale County Colorado and Dolores County Colorado with after 239 and 121 days they have an average case count of 0.01. Then Banner County Nebraska and Jackson County Colorado, after 159 and 128 days they have 0.03 and 0.039 cases per day respectfully."
   ]
  },
  {
   "cell_type": "markdown",
   "metadata": {},
   "source": [
    "### Question 4 process"
   ]
  },
  {
   "cell_type": "code",
   "execution_count": 21,
   "metadata": {},
   "outputs": [],
   "source": [
    "# Turn raw death numbers reported by 11/15/20 into deaths per 100 people\n",
    "p =county_populations[[\"County Name\", \"State\", \"population\"]]\n",
    "d =covid_deaths[[\"County Name\", \"State\", \"11/15/20\"]]\n",
    "dp100 = d.merge(p,on=[\"County Name\", \"State\"],how='left')\n",
    "\n",
    "adjusted_deaths = []\n",
    "for index,row in dp100.iterrows():\n",
    "    deaths      = row[\"11/15/20\"]\n",
    "    population = row[\"population\"]\n",
    "    try:\n",
    "        x = population/100\n",
    "        deaths_per_100 = deaths/x\n",
    "        adjusted_deaths.append(deaths_per_100)\n",
    "    except ZeroDivisionError:\n",
    "        adjusted_deaths.append(deaths)\n",
    "        \n",
    "dp100['cases'] = pd.Series(adjusted_deaths, index=dp100.index)\n",
    "\n",
    "county_deaths = dp100[[\"County Name\", \"State\", \"cases\"]]\n",
    "county_cases  = cp100[[\"County Name\", \"State\", \"cases\"]]"
   ]
  },
  {
   "cell_type": "code",
   "execution_count": 22,
   "metadata": {},
   "outputs": [],
   "source": [
    "response = dict()\n",
    "for state in list(set(county_deaths[\"State\"])):\n",
    "    death_count = sum(covid_deaths[covid_deaths[\"State\"] == state][\"11/15/20\"])\n",
    "    case_count = sum(covid_cases[covid_cases[\"State\"] == state][\"11/15/20\"])\n",
    "    state_population = sum(p[p[\"State\"] == state][\"population\"])\n",
    "    \n",
    "    x = state_population/100\n",
    "    try:    \n",
    "        state_cases_per_100 = case_count/x\n",
    "        state_death_per_100 = death_count/x\n",
    "        response[state] =  state_death_per_100/state_cases_per_100\n",
    "    except ZeroDivisionError:\n",
    "        response[state] =  death_count/case_count"
   ]
  },
  {
   "cell_type": "code",
   "execution_count": 23,
   "metadata": {},
   "outputs": [
    {
     "name": "stdout",
     "output_type": "stream",
     "text": [
      "Alaska                                   0.004324419733474538\n",
      "Utah                                     0.004679153073293733\n",
      "Wyoming                                  0.005468124833288877\n",
      "Wisconsin                                0.007992749845418945\n",
      "Nebraska                                 0.008000739477846476\n",
      "Idaho                                    0.009216365736518937\n",
      "South_Dakota                             0.0098499564093544\n",
      "Oklahoma                                 0.00991383784906052\n"
     ]
    }
   ],
   "source": [
    "best_response = dict(sorted(response.items(), key=lambda item: item[1]))\n",
    "for key, val in best_response.items():\n",
    "    if val < 0.01:\n",
    "        print('{:40} {}'.format(key, val))"
   ]
  },
  {
   "cell_type": "markdown",
   "metadata": {
    "jupyter": {
     "outputs_hidden": true
    }
   },
   "source": [
    "### Which state has the best medical response COVID-19 policies deaths vs cases?"
   ]
  },
  {
   "cell_type": "markdown",
   "metadata": {},
   "source": [
    "Alaska with a total rate of 0.0043 deaths per case"
   ]
  },
  {
   "cell_type": "markdown",
   "metadata": {},
   "source": [
    "## Future Work \n",
    "### Checking what the results would be if you classify a county as high minority if the percentage of minorities is above the percentage of white people."
   ]
  },
  {
   "cell_type": "code",
   "execution_count": null,
   "metadata": {},
   "outputs": [],
   "source": []
  }
 ],
 "metadata": {
  "kernelspec": {
   "display_name": "Python 3",
   "language": "python",
   "name": "python3"
  },
  "language_info": {
   "codemirror_mode": {
    "name": "ipython",
    "version": 3
   },
   "file_extension": ".py",
   "mimetype": "text/x-python",
   "name": "python",
   "nbconvert_exporter": "python",
   "pygments_lexer": "ipython3",
   "version": "3.7.6"
  }
 },
 "nbformat": 4,
 "nbformat_minor": 4
}
