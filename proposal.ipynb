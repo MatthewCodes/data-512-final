{
 "cells": [
  {
   "cell_type": "markdown",
   "metadata": {},
   "source": [
    "# COVID-19 Counties"
   ]
  },
  {
   "cell_type": "markdown",
   "metadata": {},
   "source": [
    "## Research questions"
   ]
  },
  {
   "cell_type": "markdown",
   "metadata": {},
   "source": [
    "1. What is the distribution of Covid-19 cases for highly minority populated counties vs. highly non-minority populated counties in the United States?\n",
    "\n",
    "2. What is the case gap between the worst counties when grouped by race?\n",
    "\n",
    "3. Which counties have seen the biggest improvement (drop in cases) since their biggest recorded day?\n",
    "\n",
    "4. Which state has the best medical response COVID-19 policies deaths vs cases?"
   ]
  },
  {
   "cell_type": "markdown",
   "metadata": {},
   "source": [
    "## Hypothesis"
   ]
  },
  {
   "cell_type": "markdown",
   "metadata": {},
   "source": [
    "The only question I have an educated hypothesis for is the 1st research question. My hypothesis is that there is an exponential distribution of COVID-19 deaths when sorting by the worst counties grouped by race. The other questions are hard to guage but if I had to guess for the 4th question I would say that California has had the best medical response. "
   ]
  },
  {
   "cell_type": "markdown",
   "metadata": {},
   "source": [
    "## Motivation"
   ]
  },
  {
   "cell_type": "markdown",
   "metadata": {},
   "source": [
    "For my personal project, I want to analyze how COVID-19 is affecting different races across all the counties in the United States. I hope to learn the exact distribution of cases across different races along with how different places are responding to the pandemic. The reason why I am doing this for my project is because I have been told that COVID-19 disproportionately affects people of color and I wanted to look at the raw numbers to come to my own conclusion. The end goal is being able to show this to people in my community and hopefully get them to take this pandemic seriously. After I come to my conclusion, I’d then like to provide my best guess of why whatever I find is happening. "
   ]
  },
  {
   "cell_type": "markdown",
   "metadata": {},
   "source": [
    "## Related work"
   ]
  },
  {
   "cell_type": "markdown",
   "metadata": {},
   "source": [
    "Some work on this has already been conducted by the CDC which let us know minorities are affected more, and that’s why I want to find out if the distribution is specifically exponential for the worst counties. Seeing a distribution will give people a more complete idea of how people are being affected compared to a simple number. See the figure below and for more information please follow [this](https://www.cdc.gov/coronavirus/2019-ncov/covid-data/investigations-discovery/hospitalization-death-by-race-ethnicity.html) link."
   ]
  },
  {
   "cell_type": "markdown",
   "metadata": {},
   "source": [
    "![alt text](Picture1.png)"
   ]
  },
  {
   "cell_type": "markdown",
   "metadata": {},
   "source": [
    "## Data"
   ]
  },
  {
   "cell_type": "markdown",
   "metadata": {},
   "source": [
    "For this project I intend to use three different datasets. The first two come from USAFacts, and the other one comes from the US Census. In the first dataset from the USAFacts, the columns represent all the counties in the US and their populations. This dataset set is relevant to my problem because I need to sort by total population size and compare to minority population size to get the minority percentages. The second dataset from USAFacts basically represents all the reported COVID-19 deaths by county over the course of the year. This dataset is relevant because I need to find out the amount of people dying in each county specifically in the counties highly populated by minorities. Both of the datasets can be found [here](https://usafacts.org/visualizations/coronavirus-covid-19-spread-map/) and are under a Creative Commons license. The last [dataset](https://usafacts.org/visualizations/coronavirus-covid-19-spread-map/) from the US Census gives a breakdown of the racial make up of every county in the United States over the course of 10 years. This data from the US Census has an open data policy and is relevant because it gives me the racial make-up of every county. None of these datasets have any ethical violations, from what I see all the data is anonymized and I believe it is unbiased."
   ]
  },
  {
   "cell_type": "markdown",
   "metadata": {},
   "source": [
    "## Methodology "
   ]
  },
  {
   "cell_type": "markdown",
   "metadata": {},
   "source": [
    "I will be doing quantitative analysis in order to come up with the distributions for my first question, standardization in order to correct for the varying population sizes and calculating the moving average in order to get a complete picture of deaths and cases over time for questions 3 and 4. In order to accurately calcualte the gaps for question 2 I believe simple aggregation will suffice.\n",
    "\n"
   ]
  },
  {
   "cell_type": "markdown",
   "metadata": {},
   "source": [
    "## Unknowns"
   ]
  },
  {
   "cell_type": "markdown",
   "metadata": {},
   "source": [
    "The first thing that I cannot control that might impact my ability to complete this project before the end of the quarter is the speed of my computer. It might take me a while to do all the analysis that I want, but if I start early this should not be a big issue. The only other thing that might impact my completion on time is how much analysis I will do. I want to explore as much of this data as I can and if I don't limit myself I might run out of time."
   ]
  },
  {
   "cell_type": "markdown",
   "metadata": {},
   "source": []
  }
 ],
 "metadata": {
  "kernelspec": {
   "display_name": "Python 3",
   "language": "python",
   "name": "python3"
  },
  "language_info": {
   "codemirror_mode": {
    "name": "ipython",
    "version": 3
   },
   "file_extension": ".py",
   "mimetype": "text/x-python",
   "name": "python",
   "nbconvert_exporter": "python",
   "pygments_lexer": "ipython3",
   "version": "3.7.6"
  }
 },
 "nbformat": 4,
 "nbformat_minor": 4
}
