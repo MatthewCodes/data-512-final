{
 "cells": [
  {
   "cell_type": "markdown",
   "metadata": {},
   "source": [
    "### Motivation"
   ]
  },
  {
   "cell_type": "markdown",
   "metadata": {},
   "source": [
    "For my personal project, I want to analyze how COVID-19 is affecting different races across all the counties in the United States. My hypothesis is that there is an exponential distribution of COVID-19 deaths when sorting by the worst counties grouped by race. The reason why I am doing this for my project is because I have been told that COVID-19 disproportionately affects people of color and I wanted to look at the raw numbers to come to my own conclusion. The end goal is being able to show this to people in my community and hopefully get them to take this pandemic seriously. After I come to my conclusion, I’d then like to provide my best guess of why whatever a I find is happening. Some work on this has already been conducted by the CDC which let us know minorities are affected more, and that’s why I want to find out if the distribution is specifically exponential for the worst counties. Seeing a distribution will give people a more complete idea of how people are being affected compared to a simple number. See the figure below and for more information please follow [this](https://www.cdc.gov/coronavirus/2019-ncov/covid-data/investigations-discovery/hospitalization-death-by-race-ethnicity.html) link."
   ]
  },
  {
   "cell_type": "markdown",
   "metadata": {},
   "source": [
    "![alt text](Picture1.png)"
   ]
  },
  {
   "cell_type": "markdown",
   "metadata": {},
   "source": [
    "### Data"
   ]
  },
  {
   "cell_type": "markdown",
   "metadata": {},
   "source": [
    "For this project I intend to use three different datasets. The first two come from USAFacts, and the other one comes from the US Census. In the first dataset from the USAFacts, the columns represent all the counties in the US and their populations. This dataset set is relevant to my problem because I need to sort by total population size and compare to minority population size to get the minority percentages. The second dataset from USAFacts basically represents all the reported COVID-19 deaths by county over the course of the year. This dataset is relevant because I need to find out the amount of people dying in each county specifically in the counties highly populated by minorities. Both of the datasets can be found [here](https://usafacts.org/visualizations/coronavirus-covid-19-spread-map/) and are under a Creative Commons license. The last [dataset](https://usafacts.org/visualizations/coronavirus-covid-19-spread-map/) from the US Census gives a breakdown of the racial make up of every county in the United States over the course of 10 years. This data from the US Census has an open data policy and is relevant because it gives me the racial make-up of every county. None of these datasets have any ethical violations, from what I see all the data is anonymized and I believe it is unbiased."
   ]
  },
  {
   "cell_type": "markdown",
   "metadata": {},
   "source": [
    "### Unknowns"
   ]
  },
  {
   "cell_type": "markdown",
   "metadata": {},
   "source": [
    "The only thing that I cannot control that might impact my ability to complete this project before the end of the quarter is the speed of my computer. It might take me a while to do all the analysis that I want, but if I start early this should not be a big issue."
   ]
  }
 ],
 "metadata": {
  "kernelspec": {
   "display_name": "Python 3",
   "language": "python",
   "name": "python3"
  },
  "language_info": {
   "codemirror_mode": {
    "name": "ipython",
    "version": 3
   },
   "file_extension": ".py",
   "mimetype": "text/x-python",
   "name": "python",
   "nbconvert_exporter": "python",
   "pygments_lexer": "ipython3",
   "version": "3.7.6"
  }
 },
 "nbformat": 4,
 "nbformat_minor": 4
}
